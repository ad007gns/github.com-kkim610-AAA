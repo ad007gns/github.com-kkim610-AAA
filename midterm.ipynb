{
 "cells": [
  {
   "cell_type": "markdown",
   "id": "1e8ecd48-1b09-493e-9fc2-3edb306eac92",
   "metadata": {
    "id": "NdFKX9hFGvJe"
   },
   "source": [
    "# 인공지능 개론 2023 중간고사 답안지"
   ]
  },
  {
   "cell_type": "markdown",
   "id": "5cfecdc4-bdbc-4c0c-91d8-63869f05b13b",
   "metadata": {
    "id": "kLeiFkXfGya2"
   },
   "source": [
    "- 제출방법: Hiclass 중간고사 과제함\n",
    "- 제출기한: 2023년 10월 24일(화) 오후 2시 까지 \n",
    "- 제출화일:     \n",
    "  시험 시간에 배부한 문제를 해결하는 코드를 문제 번호에 해당하는 셀에 입력한 후 실행하여 저장한 다음,  \n",
    "  이  파일(midterm.ipynb)을 중간고사 과제함에 제출 (프로그램을 실행한 결과가 보여야 함)   \n",
    "  과제함 제출이 안되는 경우, kkim@hnu.kr 로 제출"
   ]
  },
  {
   "cell_type": "markdown",
   "id": "483f1e83-358e-47d4-b707-521e9e818fbe",
   "metadata": {},
   "source": [
    "- 기말시험 면제자 선정시, 동점일 경우 midterm.ipynb 파일을 먼저 제출한 학생에게 우선권을 부여 합니다."
   ]
  },
  {
   "cell_type": "markdown",
   "id": "61ef1c73-3ae1-4c2f-8c42-4b1d67ac8980",
   "metadata": {},
   "source": [
    "### 1."
   ]
  },
  {
   "cell_type": "code",
   "execution_count": null,
   "id": "fa97e865-0e88-459e-942c-a34498d4852b",
   "metadata": {},
   "outputs": [],
   "source": [
    "f = open('p_1.txt')\n",
    "T = int(f.readline())\n",
    " \n",
    "for test_case in range(1, T + 1):\n",
    "    pass"
   ]
  },
  {
   "cell_type": "markdown",
   "id": "e3f63944-b1fa-4617-8c18-b14eeb8e1bae",
   "metadata": {},
   "source": [
    "### 2."
   ]
  },
  {
   "cell_type": "code",
   "execution_count": null,
   "id": "baef1155-5f2a-4c29-bb3f-b06659bcbab5",
   "metadata": {},
   "outputs": [],
   "source": [
    "f = open('p_2.txt')\n",
    "T = int(f.readline())\n",
    " \n",
    "for test_case in range(1, T + 1):\n",
    "    pass"
   ]
  }
 ],
 "metadata": {
  "kernelspec": {
   "display_name": "Python 3 (ipykernel)",
   "language": "python",
   "name": "python3"
  },
  "language_info": {
   "codemirror_mode": {
    "name": "ipython",
    "version": 3
   },
   "file_extension": ".py",
   "mimetype": "text/x-python",
   "name": "python",
   "nbconvert_exporter": "python",
   "pygments_lexer": "ipython3",
   "version": "3.10.9"
  }
 },
 "nbformat": 4,
 "nbformat_minor": 5
}
